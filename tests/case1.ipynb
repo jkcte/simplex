{
 "cells": [
  {
   "cell_type": "code",
   "execution_count": 41,
   "metadata": {},
   "outputs": [],
   "source": [
    "profit = [3, 5, 4]\n",
    "constraintProfit = [[[2, 3, 0],8],[[3, 2, 2], 15],[[0, 4,5], 10]]"
   ]
  },
  {
   "cell_type": "code",
   "execution_count": 42,
   "metadata": {},
   "outputs": [],
   "source": [
    "def simplex(obj, constraints):\n",
    "    # Make copies of the input to avoid modifying the original data\n",
    "    obj = obj.copy()\n",
    "    constraints = [constraint.copy() for constraint in constraints]\n",
    "\n",
    "    # Add slack variables\n",
    "    num_constraints = len(constraints)\n",
    "    for i in range(num_constraints):\n",
    "        # Ensure constraints[i][0] has enough zeros to accommodate slack variables\n",
    "        constraints[i][0].extend([0] * (len(obj) + num_constraints - len(constraints[i][0])))\n",
    "        constraints[i][0][len(obj) + i] = 1\n",
    "        obj.append(0)\n",
    "\n",
    "    # Initialize Cb with the coefficients of slack variables (all zeros initially)\n",
    "    Cb = [0] * num_constraints\n",
    "\n",
    "    # Initialize zj and cj-zj\n",
    "    zj = [0] * len(obj)\n",
    "    cj_zj = [obj[i] - zj[i] for i in range(len(obj))]\n",
    "\n",
    "    while max(cj_zj) > 0:  # Continue until there are no positive cj-zj values\n",
    "        # Find the pivot column (entering variable)\n",
    "        pivotColumn = cj_zj.index(max(cj_zj))\n",
    "\n",
    "        # Find the pivot row (leaving variable)\n",
    "        minRatio = float('inf')\n",
    "        pivotRow = -1\n",
    "        for i in range(num_constraints):\n",
    "            if constraints[i][0][pivotColumn] > 0:  # Avoid division by zero or negative values\n",
    "                ratio = constraints[i][1] / constraints[i][0][pivotColumn]\n",
    "                if ratio < minRatio:\n",
    "                    minRatio = ratio\n",
    "                    pivotRow = i\n",
    "\n",
    "\n",
    "        # Update Cb with the coefficient of the entering variable\n",
    "        Cb[pivotRow] = obj[pivotColumn]\n",
    "\n",
    "        # Perform pivoting\n",
    "        pivot = constraints[pivotRow][0][pivotColumn]\n",
    "        constraints[pivotRow][0] = [x / pivot for x in constraints[pivotRow][0]]\n",
    "        constraints[pivotRow][1] /= pivot\n",
    "\n",
    "        for i in range(num_constraints):\n",
    "            if i != pivotRow:\n",
    "                factor = constraints[i][0][pivotColumn]\n",
    "                constraints[i][0] = [constraints[i][0][j-1] - factor * constraints[pivotRow][0][j-1] for j in range(len(constraints[i][0]))]\n",
    "                constraints[i][1] -= factor * constraints[pivotRow][1]\n",
    "\n",
    "        # Update zj and cj-zj\n",
    "        zj = [sum(Cb[j] * constraints[j][0][i] for j in range(num_constraints)) for i in range(len(obj))]\n",
    "        cj_zj = [obj[i] - zj[i] for i in range(len(obj))]\n",
    "\n",
    "        # Print the current tableau\n",
    "        print(\"Current Tableau:\")\n",
    "        for constraint in constraints:\n",
    "            print(constraint)\n",
    "        print(f'zj: {zj}')\n",
    "        print(f'cj-zj: {cj_zj}')\n",
    "        print(f\"{'-' * 10}\")\n"
   ]
  },
  {
   "cell_type": "code",
   "execution_count": 43,
   "metadata": {},
   "outputs": [
    {
     "name": "stdout",
     "output_type": "stream",
     "text": [
      "Current Tableau:\n",
      "[[-0.75, 2.0, 0.0, -3.75, 1.0, 0.0], 0.5]\n",
      "[[-0.5, 3.0, 0.0, -0.5, 0.0, 0.0, 1.0], 10.0]\n",
      "[[0.0, 1.0, 1.25, 0.0, 0.0, 0.0, 0.0, 0.25], 2.5]\n",
      "zj: [0.0, 5.0, 6.25, 0.0, 0.0, 0.0]\n",
      "cj-zj: [3.0, 0.0, -2.25, 0.0, 0.0, 0.0]\n",
      "----------\n"
     ]
    },
    {
     "ename": "ZeroDivisionError",
     "evalue": "float division by zero",
     "output_type": "error",
     "traceback": [
      "\u001b[1;31m---------------------------------------------------------------------------\u001b[0m",
      "\u001b[1;31mZeroDivisionError\u001b[0m                         Traceback (most recent call last)",
      "Cell \u001b[1;32mIn[43], line 1\u001b[0m\n\u001b[1;32m----> 1\u001b[0m \u001b[43msimplex\u001b[49m\u001b[43m(\u001b[49m\u001b[43mprofit\u001b[49m\u001b[43m,\u001b[49m\u001b[43m \u001b[49m\u001b[43mconstraintProfit\u001b[49m\u001b[43m)\u001b[49m\n",
      "Cell \u001b[1;32mIn[42], line 41\u001b[0m, in \u001b[0;36msimplex\u001b[1;34m(obj, constraints)\u001b[0m\n\u001b[0;32m     39\u001b[0m \u001b[38;5;66;03m# Perform pivoting\u001b[39;00m\n\u001b[0;32m     40\u001b[0m pivot \u001b[38;5;241m=\u001b[39m constraints[pivotRow][\u001b[38;5;241m0\u001b[39m][pivotColumn]\n\u001b[1;32m---> 41\u001b[0m constraints[pivotRow][\u001b[38;5;241m0\u001b[39m] \u001b[38;5;241m=\u001b[39m [\u001b[43mx\u001b[49m\u001b[43m \u001b[49m\u001b[38;5;241;43m/\u001b[39;49m\u001b[43m \u001b[49m\u001b[43mpivot\u001b[49m \u001b[38;5;28;01mfor\u001b[39;00m x \u001b[38;5;129;01min\u001b[39;00m constraints[pivotRow][\u001b[38;5;241m0\u001b[39m]]\n\u001b[0;32m     42\u001b[0m constraints[pivotRow][\u001b[38;5;241m1\u001b[39m] \u001b[38;5;241m/\u001b[39m\u001b[38;5;241m=\u001b[39m pivot\n\u001b[0;32m     44\u001b[0m \u001b[38;5;28;01mfor\u001b[39;00m i \u001b[38;5;129;01min\u001b[39;00m \u001b[38;5;28mrange\u001b[39m(num_constraints):\n",
      "\u001b[1;31mZeroDivisionError\u001b[0m: float division by zero"
     ]
    }
   ],
   "source": [
    "simplex(profit, constraintProfit)"
   ]
  }
 ],
 "metadata": {
  "kernelspec": {
   "display_name": "Python 3",
   "language": "python",
   "name": "python3"
  },
  "language_info": {
   "codemirror_mode": {
    "name": "ipython",
    "version": 3
   },
   "file_extension": ".py",
   "mimetype": "text/x-python",
   "name": "python",
   "nbconvert_exporter": "python",
   "pygments_lexer": "ipython3",
   "version": "3.12.4"
  }
 },
 "nbformat": 4,
 "nbformat_minor": 2
}
