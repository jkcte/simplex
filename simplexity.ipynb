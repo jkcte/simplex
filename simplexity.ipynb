{
 "cells": [
  {
   "cell_type": "code",
   "execution_count": 102,
   "metadata": {},
   "outputs": [],
   "source": [
    "# x_1 = 7, x_2 = 6, s_3 = 0, s_4 = 0\n",
    "obj = [5, 3]\n",
    "consts = [[[3, 2],2400],[[0, 1],800], [[2, 0],1200]]\n",
    "#basis [s1, s2]"
   ]
  },
  {
   "cell_type": "code",
   "execution_count": 103,
   "metadata": {},
   "outputs": [
    {
     "name": "stdout",
     "output_type": "stream",
     "text": [
      "[600.0, 300.0]\n"
     ]
    }
   ],
   "source": [
    "def simplexMethod(objFunction: list, constraints: list, isMax : bool = True) -> list:\n",
    "    \n",
    "    \"\"\"\n",
    "    Solves the linear programming problem using the Simplex method.\n",
    "\n",
    "    Parameters:\n",
    "    @param obj_function (list): The coefficients of the objective function.\n",
    "    @param constraints (list): A list of constraints, where each constraint is a list containing the coefficients and the right-hand side value.\n",
    "\n",
    "    Returns:\n",
    "    list: The solution to the linear programming problem.\n",
    "    \"\"\"\n",
    "\n",
    "    originalNum = len(constraints)\n",
    "    internalCount = 0\n",
    "    originalObj = objFunction.copy()\n",
    "    \n",
    "    for i in range(originalNum):\n",
    "        objFunction.append(0)\n",
    "        for j in range(originalNum):\n",
    "            if internalCount%(len(constraints)+1) == 0:\n",
    "                constraints[i][0].append(1)\n",
    "            else:\n",
    "                constraints[i][0].append(0)\n",
    "            internalCount += 1\n",
    "    result = []\n",
    "    resultIndex = [-1 for i in range(len(constraints))]\n",
    "    basis = [0 for i in range(len(constraints))]\n",
    "    z_j = [sum(basis[j]*constraints[j][0][i] for j in range(len(constraints))) for i in range(len(constraints[0][0]))]\n",
    "\n",
    "    c_j_minus_z_j = [objFunction[i] - z_j[i] for i in range(len(z_j))]\n",
    "\n",
    "    while max(c_j_minus_z_j) > 0:  \n",
    "        maxIndex = c_j_minus_z_j.index(max(c_j_minus_z_j))\n",
    "\n",
    "        ratios = []\n",
    "        for i in range(len(constraints)):\n",
    "            if constraints[i][0][maxIndex] > 0:\n",
    "                ratios.append((constraints[i][1]/constraints[i][0][maxIndex], i))\n",
    "        \n",
    "        if not ratios:\n",
    "            return \"Unbounded solution\"\n",
    "            \n",
    "        minRatio, minIndex = min(ratios)\n",
    "\n",
    "        basis[minIndex] = objFunction[maxIndex]\n",
    "        resultIndex[minIndex] = maxIndex\n",
    "\n",
    "\n",
    "        pivot = constraints[minIndex][0][maxIndex]\n",
    "\n",
    "        old_row = constraints[minIndex].copy()\n",
    "\n",
    "        constraints[minIndex][0] = [x/pivot for x in constraints[minIndex][0]]\n",
    "        constraints[minIndex][1] = constraints[minIndex][1]/pivot\n",
    "\n",
    "        for i in range(len(constraints)):\n",
    "            if i != minIndex:\n",
    "                multiplier = constraints[i][0][maxIndex]\n",
    "                constraints[i][0] = [constraints[i][0][j] - multiplier*constraints[minIndex][0][j] \n",
    "                                   for j in range(len(constraints[0][0]))]\n",
    "                constraints[i][1] = constraints[i][1] - multiplier*constraints[minIndex][1]\n",
    "        \n",
    "        z_j = [sum(basis[j]*constraints[j][0][i] for j in range(len(basis))) for i in range(len(constraints[0][0]))]\n",
    "        c_j_minus_z_j = [objFunction[i] - z_j[i] for i in range(len(z_j))]\n",
    "\n",
    "    for i in range(len(originalObj)):\n",
    "        if i in resultIndex:\n",
    "            result.append(constraints[resultIndex.index(i)][1])\n",
    "        else:\n",
    "            result.append(0)\n",
    "    objFunction = []\n",
    "    constraints = []\n",
    "    return result\n",
    "\n",
    "print(simplexMethod(obj, consts))"
   ]
  },
  {
   "cell_type": "code",
   "execution_count": 104,
   "metadata": {},
   "outputs": [
    {
     "name": "stdout",
     "output_type": "stream",
     "text": [
      "[3.6341463414634148, 0.24390243902439002, 1.8048780487804879]\n"
     ]
    }
   ],
   "source": [
    "profit = [3, 5, 4]\n",
    "constraintProfit = [[[2, 3, 0],8],[[3, 2, 2], 15],[[0, 4,5], 10]]\n",
    "print(simplexMethod(profit, constraintProfit))"
   ]
  },
  {
   "cell_type": "code",
   "execution_count": 105,
   "metadata": {},
   "outputs": [
    {
     "name": "stdout",
     "output_type": "stream",
     "text": [
      "[[2.0, 0, 3.0, -4.0], 10.0]\n"
     ]
    }
   ],
   "source": [
    "import re\n",
    "\n",
    "def parseInputConstrict(input_string: str, objVariables: list[str]) -> tuple:\n",
    "    \"\"\"\n",
    "    Parses a linear equation input string and extracts the coefficients and the result.\\n\n",
    "    Args:\\n\n",
    "        input_string (str): The input string representing a linear equation. \\n\n",
    "                            The equation should be in the form of 'ax + by + cz = d' \\n\n",
    "                            where a, b, c, and d are numbers, and x, y, z are variables.\\n\n",
    "    Returns:\\n\n",
    "        tuple: A tuple containing two elements:\\n\n",
    "            - A list of coefficients (float) for each variable in the equation.\\n\n",
    "            - A float representing the result of the equation.\n",
    "    \"\"\"\n",
    "\n",
    "    \n",
    "\n",
    "    input_string = input_string.replace(\" \", \"\")\n",
    "    terms = re.findall(r'([+-]?\\d*\\.?\\d*)([a-zA-Z]+)', input_string)\n",
    "    coefficients = []\n",
    "    for var in objVariables:\n",
    "        coefficient = 0\n",
    "        for term in terms:\n",
    "            if term[1] == var:\n",
    "                coefficient = term[0]\n",
    "                if coefficient in ['+', '-'] or coefficient == '':\n",
    "                    coefficient += '1'\n",
    "                coefficient = float(coefficient)\n",
    "                break\n",
    "        coefficients.append(coefficient)\n",
    "    result = input_string.split('=')[-1]\n",
    "    return [coefficients, float(result)]\n",
    "equation = \"2a + 3b - 4c = 10\"\n",
    "coefficients = parseInputConstrict(equation, ['a', 'e', 'b', 'c'])\n",
    "print(coefficients)"
   ]
  },
  {
   "cell_type": "code",
   "execution_count": 106,
   "metadata": {},
   "outputs": [
    {
     "name": "stdout",
     "output_type": "stream",
     "text": [
      "([2.0, 3.0, -4.0], ['a', 'b', 'c'])\n"
     ]
    }
   ],
   "source": [
    "def parseInputObj(input_string: str) -> tuple:\n",
    "    \"\"\"\n",
    "    Parses a linear equation input string and extracts the coefficients and the result.\\n\n",
    "    Args:\\n\n",
    "        input_string (str): The input string representing a linear equation. \\n\n",
    "                            The equation should be in the form of 'ax + by + cz = d' \\n\n",
    "                            where a, b, c, and d are numbers, and x, y, z are variables.\\n\n",
    "    Returns:\\n\n",
    "        tuple: A tuple containing two elements:\\n\n",
    "            - A list of coefficients (float) for each variable in the equation.\\n\n",
    "            - A float representing the result of the equation.\n",
    "    \"\"\"\n",
    "    input_string = input_string.replace(\" \", \"\")\n",
    "    terms = re.findall(r'([+-]?\\d*\\.?\\d*)([a-zA-Z]+)', input_string)\n",
    "    coefficients = []\n",
    "    variables = []\n",
    "    for term in terms:\n",
    "        coefficient = term[0]\n",
    "        variable = term[1]\n",
    "        if coefficient in ['+', '-'] or coefficient == '':\n",
    "            coefficient += '1'\n",
    "        coefficients.append(float(coefficient))\n",
    "        variables.append(variable)\n",
    "    return coefficients, variables\n",
    "equation = \"2a + 3b - 4c\"\n",
    "coefficients = parseInputObj(equation)\n",
    "print(coefficients)"
   ]
  },
  {
   "cell_type": "code",
   "execution_count": 109,
   "metadata": {},
   "outputs": [
    {
     "name": "stdout",
     "output_type": "stream",
     "text": [
      "[4.23076923076923, 0, 1.1538461538461537, 0.38461538461538464]\n"
     ]
    }
   ],
   "source": [
    "def simplexFunction(obj:list, constrict:list[list,int]) -> list:\n",
    "    obj = parseInputObj(obj)\n",
    "    return simplexMethod(obj[0], [parseInputConstrict(constraint, obj[1]) for constraint in constrict])\n",
    "\n",
    "obj = \"3a + 5b + 4c + 3d\"\n",
    "constrict = [\"2a + 3b + 4d = 10\", \"3a + 2b + 2c = 15\", \"a + 4b + 5c = 10\"]\n",
    "print(simplexFunction(obj, constrict))"
   ]
  }
 ],
 "metadata": {
  "kernelspec": {
   "display_name": "Python 3",
   "language": "python",
   "name": "python3"
  },
  "language_info": {
   "codemirror_mode": {
    "name": "ipython",
    "version": 3
   },
   "file_extension": ".py",
   "mimetype": "text/x-python",
   "name": "python",
   "nbconvert_exporter": "python",
   "pygments_lexer": "ipython3",
   "version": "3.12.4"
  }
 },
 "nbformat": 4,
 "nbformat_minor": 2
}
