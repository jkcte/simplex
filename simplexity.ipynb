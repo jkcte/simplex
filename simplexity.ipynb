{
 "cells": [
  {
   "cell_type": "code",
   "execution_count": 65,
   "metadata": {},
   "outputs": [],
   "source": [
    "# x_1 = 7, x_2 = 6, s_3 = 0, s_4 = 0\n",
    "objFunction = [5, 2, 0, 0, 0]\n",
    "constraints = [[[3, 2, 1, 0, 0],2400],[[0, 1, 0, 1, 0],800], [[2, 0, 0, 0, 1],1200]]\n",
    "#basis [s1, s2]"
   ]
  },
  {
   "cell_type": "code",
   "execution_count": 66,
   "metadata": {},
   "outputs": [
    {
     "name": "stdout",
     "output_type": "stream",
     "text": [
      "basis:  [0, 0, 0]\n",
      "5\n",
      "objFunction:  [5, 2, 0, 0, 0]\n",
      "5\n",
      "z_j:  [0, 0, 0, 0, 0]\n",
      "c_j_minus_z_j:  [5, 2, 0, 0, 0]\n",
      "maxIndex:  0\n",
      "minRatio:  600.0\n",
      "minIndex:  2\n",
      "constraints[minIndex][0]:  [1.0, 0.0, 0.0, 0.0, 0.5]\n",
      "constraints[minIndex][1]:  600.0\n",
      "results:  [600.0, 800.0, 600.0]\n",
      "maxIndex:  1\n",
      "minRatio:  300.0\n",
      "minIndex:  0\n",
      "constraints[minIndex][0]:  [0.0, 1.0, 0.5, 0.0, -0.75]\n",
      "constraints[minIndex][1]:  300.0\n",
      "results:  [300.0, 500.0, 600.0]\n",
      "[300.0, 500.0, 600.0]\n"
     ]
    }
   ],
   "source": [
    "def simplexMethod(objFunction, constraints, isMax = True):\n",
    "    result = []\n",
    "    basis = [0 for i in range(len(constraints))]\n",
    "    print(\"basis: \", basis)\n",
    "    print(len(constraints[0][0]))\n",
    "    print(\"objFunction: \", objFunction)\n",
    "    print(len(objFunction))\n",
    "    z_j = [sum(basis[j]*constraints[j][0][i] for j in range(len(constraints))) for i in range(len(constraints[0][0]))]\n",
    "    print(\"z_j: \", z_j)\n",
    "    c_j_minus_z_j = [objFunction[i] - z_j[i] for i in range(len(z_j))]\n",
    "    print(\"c_j_minus_z_j: \", c_j_minus_z_j)\n",
    "\n",
    "    while max(c_j_minus_z_j) > 0:  \n",
    "        maxIndex = c_j_minus_z_j.index(max(c_j_minus_z_j))\n",
    "        print(\"maxIndex: \", maxIndex)\n",
    "\n",
    "        ratios = []\n",
    "        for i in range(len(constraints)):\n",
    "            if constraints[i][0][maxIndex] > 0:\n",
    "                ratios.append((constraints[i][1]/constraints[i][0][maxIndex], i))\n",
    "        \n",
    "        if not ratios:\n",
    "            return \"Unbounded solution\"\n",
    "            \n",
    "        minRatio, minIndex = min(ratios)\n",
    "        print(\"minRatio: \", minRatio)\n",
    "        print(\"minIndex: \", minIndex)\n",
    "\n",
    "        basis[minIndex] = objFunction[maxIndex]\n",
    "\n",
    "        pivot = constraints[minIndex][0][maxIndex]\n",
    "\n",
    "        old_row = constraints[minIndex].copy()\n",
    "\n",
    "        constraints[minIndex][0] = [x/pivot for x in constraints[minIndex][0]]\n",
    "        constraints[minIndex][1] = constraints[minIndex][1]/pivot\n",
    "        print(\"constraints[minIndex][0]: \", constraints[minIndex][0])\n",
    "        print(\"constraints[minIndex][1]: \", constraints[minIndex][1])\n",
    "\n",
    "        for i in range(len(constraints)):\n",
    "            if i != minIndex:\n",
    "                multiplier = constraints[i][0][maxIndex]\n",
    "                constraints[i][0] = [constraints[i][0][j] - multiplier*constraints[minIndex][0][j] \n",
    "                                   for j in range(len(constraints[0][0]))]\n",
    "                constraints[i][1] = constraints[i][1] - multiplier*constraints[minIndex][1]\n",
    "        \n",
    "        print(\"results: \", [constraints[i][1] for i in range(len(constraints))])\n",
    "        \n",
    "        z_j = [sum(basis[j]*constraints[j][0][i] for j in range(len(basis))) for i in range(len(constraints[0][0]))]\n",
    "        c_j_minus_z_j = [objFunction[i] - z_j[i] for i in range(len(z_j))]\n",
    "    \n",
    "    for i in range(len(basis)):\n",
    "        result.append(round(constraints[i][1], 4))\n",
    "    return result\n",
    "\n",
    "print(simplexMethod(objFunction, constraints))"
   ]
  }
 ],
 "metadata": {
  "kernelspec": {
   "display_name": "Python 3",
   "language": "python",
   "name": "python3"
  },
  "language_info": {
   "codemirror_mode": {
    "name": "ipython",
    "version": 3
   },
   "file_extension": ".py",
   "mimetype": "text/x-python",
   "name": "python",
   "nbconvert_exporter": "python",
   "pygments_lexer": "ipython3",
   "version": "3.12.4"
  }
 },
 "nbformat": 4,
 "nbformat_minor": 2
}
