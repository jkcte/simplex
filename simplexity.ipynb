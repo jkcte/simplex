{
 "cells": [
  {
   "cell_type": "code",
   "execution_count": 1,
   "metadata": {},
   "outputs": [],
   "source": [
    "# x_1 = 7, x_2 = 6, s_3 = 0, s_4 = 0\n",
    "objFunction = [7, 6, 0, 0]\n",
    "constraints = [[[2, 4, 1, 0],16],[[3, 2, 0, 1],12]]\n",
    "#basis [s1, s2]\n",
    "basis = [0, 0]\n",
    "z_j = [basis[0]*constraints[0][0][0] + basis[1]*constraints[1][0][0], basis[0]*constraints[0][0][1] + basis[1]*constraints[1][0][1], basis[0]*constraints[0][0][2] + basis[1]*constraints[1][0][2], basis[0]*constraints[0][0][3] + basis[1]*constraints[1][0][3]]\n",
    "c_j_minus_z_j = [objFunction[0] - z_j[0], objFunction[1] - z_j[1], objFunction[2] - z_j[2], objFunction[3] - z_j[3]]"
   ]
  },
  {
   "cell_type": "code",
   "execution_count": 64,
   "metadata": {},
   "outputs": [
    {
     "name": "stdout",
     "output_type": "stream",
     "text": [
      "basis:  [0, 0]\n",
      "3\n",
      "objFunction:  [7, 6, 0, 0]\n",
      "4\n",
      "z_j:  [0.0, 0.0, 0.0]\n",
      "c_j_minus_z_j:  [7.0, 6.0, 0.0]\n",
      "maxIndex:  0\n",
      "minRatio:  2.0000000000000004\n",
      "minIndex:  1\n",
      "constraints[minIndex][0]:  [1.0, 0.0, -0.24999999999999994]\n",
      "constraints[minIndex][1]:  2.0000000000000004\n",
      "results:  [2.9999999999999996, 2.0000000000000004]\n",
      "maxIndex:  1\n",
      "minRatio:  2.9999999999999996\n",
      "minIndex:  0\n",
      "constraints[minIndex][0]:  [0.0, 1.0, 0.37499999999999994]\n",
      "constraints[minIndex][1]:  2.9999999999999996\n",
      "results:  [2.9999999999999996, 2.0000000000000004]\n",
      "[3.0, 2.0]\n"
     ]
    }
   ],
   "source": [
    "def simplexMethod(objFunction, constraints, isMax = True):\n",
    "    result = []\n",
    "    basis = [0 for i in range(len(constraints))]\n",
    "    print(\"basis: \", basis)\n",
    "    print(len(constraints[0][0]))\n",
    "    print(\"objFunction: \", objFunction)\n",
    "    print(len(objFunction))\n",
    "    z_j = [sum(basis[j]*constraints[j][0][i] for j in range(len(constraints))) for i in range(len(constraints[0][0]))]\n",
    "    print(\"z_j: \", z_j)\n",
    "    c_j_minus_z_j = [objFunction[i] - z_j[i] for i in range(len(z_j))]\n",
    "    print(\"c_j_minus_z_j: \", c_j_minus_z_j)\n",
    "\n",
    "    while max(c_j_minus_z_j) > 0:  # Changed condition for maximization problem\n",
    "        # Find entering variable (maximum c_j - z_j)\n",
    "        maxIndex = c_j_minus_z_j.index(max(c_j_minus_z_j))\n",
    "        print(\"maxIndex: \", maxIndex)\n",
    "        \n",
    "        # Find leaving variable (minimum ratio)\n",
    "        ratios = []\n",
    "        for i in range(len(constraints)):\n",
    "            if constraints[i][0][maxIndex] > 0:\n",
    "                ratios.append((constraints[i][1]/constraints[i][0][maxIndex], i))\n",
    "        \n",
    "        if not ratios:  # If no positive ratios found, problem is unbounded\n",
    "            return \"Unbounded solution\"\n",
    "            \n",
    "        minRatio, minIndex = min(ratios)\n",
    "        print(\"minRatio: \", minRatio)\n",
    "        print(\"minIndex: \", minIndex)\n",
    "        \n",
    "        # Update basis\n",
    "        basis[minIndex] = objFunction[maxIndex]\n",
    "        \n",
    "        # Store pivot element\n",
    "        pivot = constraints[minIndex][0][maxIndex]\n",
    "        \n",
    "        # Save current row before modifying\n",
    "        old_row = constraints[minIndex].copy()\n",
    "\n",
    "        # Update pivot row\n",
    "        constraints[minIndex][0] = [x/pivot for x in constraints[minIndex][0]]\n",
    "        constraints[minIndex][1] = constraints[minIndex][1]/pivot\n",
    "        print(\"constraints[minIndex][0]: \", constraints[minIndex][0])\n",
    "        print(\"constraints[minIndex][1]: \", constraints[minIndex][1])\n",
    "        # Update other rows\n",
    "        for i in range(len(constraints)):\n",
    "            if i != minIndex:\n",
    "                multiplier = constraints[i][0][maxIndex]\n",
    "                constraints[i][0] = [constraints[i][0][j] - multiplier*constraints[minIndex][0][j] \n",
    "                                   for j in range(len(constraints[0][0]))]\n",
    "                constraints[i][1] = constraints[i][1] - multiplier*constraints[minIndex][1]\n",
    "        \n",
    "        print(\"results: \", [constraints[i][1] for i in range(len(constraints))])\n",
    "        \n",
    "        # Update z_j and c_j_minus_z_j\n",
    "        z_j = [sum(basis[j]*constraints[j][0][i] for j in range(len(basis))) for i in range(len(constraints[0][0]))]\n",
    "        c_j_minus_z_j = [objFunction[i] - z_j[i] for i in range(len(z_j))]\n",
    "    \n",
    "    # Get final solution\n",
    "    for i in range(len(basis)):\n",
    "        result.append(round(constraints[i][1], 4))\n",
    "    return result\n",
    "\n",
    "print(simplexMethod(objFunction, constraints))"
   ]
  }
 ],
 "metadata": {
  "kernelspec": {
   "display_name": "Python 3",
   "language": "python",
   "name": "python3"
  },
  "language_info": {
   "codemirror_mode": {
    "name": "ipython",
    "version": 3
   },
   "file_extension": ".py",
   "mimetype": "text/x-python",
   "name": "python",
   "nbconvert_exporter": "python",
   "pygments_lexer": "ipython3",
   "version": "3.12.4"
  }
 },
 "nbformat": 4,
 "nbformat_minor": 2
}
